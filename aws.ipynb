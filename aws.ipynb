{
 "cells": [
  {
   "cell_type": "markdown",
   "metadata": {},
   "source": [
    "##### Grading Program\n",
    "- 40 to 50 = D\n",
    "- 51 to 60 = C\n",
    "- 61 to 75 = B\n",
    "- 76 to 100 = A"
   ]
  },
  {
   "cell_type": "markdown",
   "metadata": {},
   "source": [
    "With Relational and Logical Operator"
   ]
  },
  {
   "cell_type": "code",
   "execution_count": 1,
   "metadata": {},
   "outputs": [
    {
     "name": "stdout",
     "output_type": "stream",
     "text": [
      "Failed!\n"
     ]
    }
   ],
   "source": [
    "score = int(input(\"Enter student score: \"))\n",
    "\n",
    "if score > 100:\n",
    "    print(\"Student score can not be greater than 100\")\n",
    "else:\n",
    "    if score >= 40 and score <= 50:\n",
    "        print(\"Student's grade is D\")\n",
    "\n",
    "    elif score >= 51 and score <= 60:\n",
    "        print(\"Student's grade is C\")\n",
    "\n",
    "    elif score >= 61 and score <= 75:\n",
    "        print(\"Student's grade is B\")\n",
    "\n",
    "    elif score >= 76 and score <= 100:\n",
    "        print(\"Student's grade is A\")\n",
    "\n",
    "    else:\n",
    "        print(\"Failed!\")"
   ]
  },
  {
   "cell_type": "markdown",
   "metadata": {},
   "source": [
    "With Range() Function"
   ]
  },
  {
   "cell_type": "code",
   "execution_count": 35,
   "metadata": {},
   "outputs": [
    {
     "name": "stdout",
     "output_type": "stream",
     "text": [
      "Student score can not be greater than 100\n"
     ]
    }
   ],
   "source": [
    "score = int(input(\"Enter student score: \"))\n",
    "\n",
    "if score > 100:\n",
    "    print(\"Student score can not be greater than 100\")\n",
    "else:\n",
    "    if score in range(76,101):\n",
    "        print(\"Student's grade is A\")\n",
    "\n",
    "    elif score in range(61, 76):\n",
    "        print(\"Student's grade is B\")\n",
    "\n",
    "    elif score in range(51, 61):\n",
    "        print(\"Student's grade is C\")\n",
    "\n",
    "    elif score in range(40,51):\n",
    "        print(\"Student's grade is D\")\n",
    "\n",
    "    else:\n",
    "        print(\"Failed!\")"
   ]
  },
  {
   "cell_type": "markdown",
   "metadata": {},
   "source": [
    "##### Function"
   ]
  },
  {
   "cell_type": "code",
   "execution_count": 53,
   "metadata": {},
   "outputs": [],
   "source": [
    "def gradingSystem(score):\n",
    "    if score > 100:\n",
    "        print(\"Student score can not be greater than 100\")\n",
    "    else:\n",
    "        if score in range(76,101):\n",
    "            print(\"Student grade: A\")\n",
    "\n",
    "        elif score in range(61, 76):\n",
    "            print(\"Student grade: B\")\n",
    "\n",
    "        elif score in range(51, 61):\n",
    "            print(\"Student grade: C\")\n",
    "\n",
    "        elif score in range(40,51):\n",
    "            print(\"Student grade: D\")\n",
    "\n",
    "        else:\n",
    "            print(\"Failed!\")"
   ]
  },
  {
   "cell_type": "code",
   "execution_count": 37,
   "metadata": {},
   "outputs": [
    {
     "name": "stdout",
     "output_type": "stream",
     "text": [
      "Student's grade is D\n"
     ]
    }
   ],
   "source": [
    "score = int(input(\"Enter student score: \"))\n",
    "gradingSystem(score)"
   ]
  },
  {
   "cell_type": "markdown",
   "metadata": {},
   "source": [
    "##### Group Work\n",
    "Write a python program that will find the grade of 5 students and print out their name, score and grade."
   ]
  },
  {
   "cell_type": "code",
   "execution_count": 54,
   "metadata": {},
   "outputs": [],
   "source": [
    "students_record = {\n",
    "    'Emma':60,\n",
    "    'Grace': 80,\n",
    "    'Mikel': 64,\n",
    "    'Ehis': 67,\n",
    "    'Benedict':57\n",
    "}"
   ]
  },
  {
   "cell_type": "code",
   "execution_count": 55,
   "metadata": {},
   "outputs": [
    {
     "name": "stdout",
     "output_type": "stream",
     "text": [
      "____________________\n",
      "Student name: Emma\n",
      "Student score: 60\n",
      "Student grade: C\n",
      "____________________\n",
      "Student name: Grace\n",
      "Student score: 80\n",
      "Student grade: A\n",
      "____________________\n",
      "Student name: Mikel\n",
      "Student score: 64\n",
      "Student grade: B\n",
      "____________________\n",
      "Student name: Ehis\n",
      "Student score: 67\n",
      "Student grade: B\n",
      "____________________\n",
      "Student name: Benedict\n",
      "Student score: 57\n",
      "Student grade: C\n"
     ]
    }
   ],
   "source": [
    "for name, score in students_record.items():\n",
    "    print('_'*20)\n",
    "    print(f\"Student name: {name}\")\n",
    "    print(f\"Student score: {score}\")\n",
    "    gradingSystem(score)\n",
    "    "
   ]
  }
 ],
 "metadata": {
  "kernelspec": {
   "display_name": "Python 3",
   "language": "python",
   "name": "python3"
  },
  "language_info": {
   "codemirror_mode": {
    "name": "ipython",
    "version": 3
   },
   "file_extension": ".py",
   "mimetype": "text/x-python",
   "name": "python",
   "nbconvert_exporter": "python",
   "pygments_lexer": "ipython3",
   "version": "3.11.5"
  },
  "orig_nbformat": 4
 },
 "nbformat": 4,
 "nbformat_minor": 2
}
