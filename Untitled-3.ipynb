{
 "cells": [
  {
   "cell_type": "code",
   "execution_count": 1,
   "metadata": {},
   "outputs": [
    {
     "name": "stdout",
     "output_type": "stream",
     "text": [
      "Area of the rectangle: 242.39999999999998\n",
      "Perimeter of the rectangle: 64.4\n"
     ]
    }
   ],
   "source": [
    "# Input: Length and Width from the user\n",
    "length = float(input(\"12.0: \"))\n",
    "width = float(input(\"20.2: \"))\n",
    "\n",
    "# Calculate the area and perimeter\n",
    "area = length * width\n",
    "perimeter = 2 * (length + width)\n",
    "\n",
    "# Display the results\n",
    "print(f\"Area of the rectangle: {area}\")\n",
    "print(f\"Perimeter of the rectangle: {perimeter}\")\n"
   ]
  },
  {
   "cell_type": "code",
   "execution_count": 3,
   "metadata": {},
   "outputs": [
    {
     "name": "stdout",
     "output_type": "stream",
     "text": [
      "Area of the rectangle: 1096.8000000000002\n",
      "Perimeter of the rectangle: 139.4\n"
     ]
    }
   ],
   "source": [
    "# Input: Length and Width from the user\n",
    "length = float(input(\"Enter the length of the rectangle: \"))\n",
    "width = float(input(\"Enter the width of the rectangle: \"))\n",
    "\n",
    "# Calculate the area and perimeter\n",
    "area = length * width\n",
    "perimeter = 2 * (length + width)\n",
    "\n",
    "# Display the results\n",
    "print(\"Area of the rectangle:\", area)\n",
    "print(\"Perimeter of the rectangle:\", perimeter)\n"
   ]
  },
  {
   "cell_type": "code",
   "execution_count": 6,
   "metadata": {},
   "outputs": [],
   "source": [
    "fruits = ['apple', 'pineapple', 'grapes', 'orange', 'banana']"
   ]
  },
  {
   "cell_type": "code",
   "execution_count": 7,
   "metadata": {},
   "outputs": [
    {
     "data": {
      "text/plain": [
       "['apple', 'pineapple', 'grapes', 'orange', 'banana']"
      ]
     },
     "execution_count": 7,
     "metadata": {},
     "output_type": "execute_result"
    }
   ],
   "source": [
    "fruits"
   ]
  },
  {
   "cell_type": "code",
   "execution_count": 14,
   "metadata": {},
   "outputs": [],
   "source": [
    "fruits.reverse()"
   ]
  },
  {
   "cell_type": "code",
   "execution_count": 16,
   "metadata": {},
   "outputs": [
    {
     "name": "stdout",
     "output_type": "stream",
     "text": [
      "['banana', 'orange', 'grapes', 'pineapple', 'apple']\n"
     ]
    }
   ],
   "source": [
    "print(fruits)"
   ]
  },
  {
   "cell_type": "code",
   "execution_count": 17,
   "metadata": {},
   "outputs": [
    {
     "name": "stdout",
     "output_type": "stream",
     "text": [
      "['banana', 'orange', 'grapes', 'pineapple', 'apple']\n"
     ]
    }
   ],
   "source": [
    "fruits = ['apple', 'pineapple', 'grapes', 'orange', 'banana']\n",
    "fruits.reverse()\n",
    "print(fruits)\n"
   ]
  },
  {
   "cell_type": "code",
   "execution_count": 25,
   "metadata": {},
   "outputs": [
    {
     "name": "stdout",
     "output_type": "stream",
     "text": [
      "25.0 degrees Celsius is equal to 77.0 degrees Fahrenheit.\n",
      "0.0 degrees Celsius is equal to 32.0 degrees Fahrenheit.\n",
      "-10.0 degrees Celsius is equal to 14.0 degrees Fahrenheit.\n"
     ]
    }
   ],
   "source": [
    "def celsius_to_fahrenheit(celsius):\n",
    "    fahrenheit = (celsius * 9/5) + 32\n",
    "    return fahrenheit\n",
    "\n",
    "# Test the function with three different temperature values\n",
    "temperature1 = 25.0  # Celsius\n",
    "temperature2 = 0.0   # Celsius\n",
    "temperature3 = -10.0  # Celsius\n",
    "\n",
    "# Convert and print the temperatures in Fahrenheit\n",
    "result1 = celsius_to_fahrenheit(temperature1)\n",
    "result2 = celsius_to_fahrenheit(temperature2)\n",
    "result3 = celsius_to_fahrenheit(temperature3)\n",
    "\n",
    "print(f\"{temperature1} degrees Celsius is equal to {result1} degrees Fahrenheit.\")\n",
    "print(f\"{temperature2} degrees Celsius is equal to {result2} degrees Fahrenheit.\")\n",
    "print(f\"{temperature3} degrees Celsius is equal to {result3} degrees Fahrenheit.\")\n"
   ]
  },
  {
   "cell_type": "code",
   "execution_count": 2,
   "metadata": {},
   "outputs": [
    {
     "name": "stdout",
     "output_type": "stream",
     "text": [
      "amount\n"
     ]
    }
   ],
   "source": [
    "# Function to calculate compound interest\n",
    "def calculate_compound_interest(principal, rate, time, n):\n",
    "    # Calculate compound interest\n",
    "    amount = principal * (1 + (rate / n))**(n * time)\n",
    "    # Calculate the interest earned\n",
    "    interest_earned = amount - principal\n",
    "    return amount, interest_earned\n",
    "\n",
    "# Input: Principal amount, interest rate, time, and compounding frequency\n",
    "principal = float(input(\"Enter the principal amount: \"))\n",
    "rate = float(input(\"Enter the annual interest rate (as a decimal): \"))\n",
    "time = float(input(\"Enter the number of years: \"))\n",
    "n = int(input(\"Enter the number of times interest is compounded per year\"))\n",
    "\n",
    "print(\"amount\")"
   ]
  },
  {
   "cell_type": "code",
   "execution_count": null,
   "metadata": {},
   "outputs": [],
   "source": []
  }
 ],
 "metadata": {
  "kernelspec": {
   "display_name": "Python 3",
   "language": "python",
   "name": "python3"
  },
  "language_info": {
   "codemirror_mode": {
    "name": "ipython",
    "version": 3
   },
   "file_extension": ".py",
   "mimetype": "text/x-python",
   "name": "python",
   "nbconvert_exporter": "python",
   "pygments_lexer": "ipython3",
   "version": "3.11.5"
  },
  "orig_nbformat": 4
 },
 "nbformat": 4,
 "nbformat_minor": 2
}
